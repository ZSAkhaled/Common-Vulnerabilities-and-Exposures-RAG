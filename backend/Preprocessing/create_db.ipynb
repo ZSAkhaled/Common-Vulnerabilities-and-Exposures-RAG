{
 "cells": [
  {
   "cell_type": "markdown",
   "metadata": {},
   "source": [
    "## Import libraries"
   ]
  },
  {
   "cell_type": "code",
   "execution_count": 1,
   "metadata": {},
   "outputs": [],
   "source": [
    "import os\n",
    "from langchain.text_splitter import RecursiveCharacterTextSplitter\n",
    "from langchain_community.document_loaders import DirectoryLoader\n",
    "from langchain_community.vectorstores import Chroma\n",
    "from langchain_community.embeddings import OllamaEmbeddings"
   ]
  },
  {
   "cell_type": "markdown",
   "metadata": {},
   "source": [
    "## Load documents"
   ]
  },
  {
   "cell_type": "code",
   "execution_count": 2,
   "metadata": {},
   "outputs": [
    {
     "name": "stderr",
     "output_type": "stream",
     "text": [
      "100%|██████████| 10000/10000 [02:41<00:00, 62.02it/s]\n"
     ]
    }
   ],
   "source": [
    "loader = DirectoryLoader('Dataset/markdown_files/10_000', glob=\"**/*.md\", show_progress=True)\n",
    "documents = loader.load()"
   ]
  },
  {
   "cell_type": "markdown",
   "metadata": {},
   "source": [
    "## Split text"
   ]
  },
  {
   "cell_type": "code",
   "execution_count": 3,
   "metadata": {},
   "outputs": [],
   "source": [
    "text_splitter = RecursiveCharacterTextSplitter(chunk_size=2000, chunk_overlap=100)\n",
    "documents = text_splitter.split_documents(documents)"
   ]
  },
  {
   "cell_type": "markdown",
   "metadata": {},
   "source": [
    "## Create vectore database and store it"
   ]
  },
  {
   "cell_type": "markdown",
   "metadata": {},
   "source": [
    "#### nomic-embed-text (Experiments)"
   ]
  },
  {
   "cell_type": "code",
   "execution_count": 4,
   "metadata": {},
   "outputs": [],
   "source": [
    "PRESIST_DIRECTORY = os.path.join(os.getcwd(), \"Dataset/chroma_db_100_nomic-embed-text\")\n",
    "\n",
    "embedding_function = OllamaEmbeddings(model=\"nomic-embed-text\")\n",
    "\n",
    "vector_db = Chroma.from_documents(documents, embedding_function, persist_directory=PRESIST_DIRECTORY)"
   ]
  },
  {
   "cell_type": "markdown",
   "metadata": {},
   "source": [
    "#### mxbai-embed-large (Experiments)"
   ]
  },
  {
   "cell_type": "code",
   "execution_count": 6,
   "metadata": {},
   "outputs": [],
   "source": [
    "PRESIST_DIRECTORY = os.path.join(os.getcwd(), \"Dataset/chroma_db_100_mxbai-embed-large\")\n",
    "\n",
    "embedding_function = OllamaEmbeddings(model=\"mxbai-embed-large\")\n",
    "\n",
    "vector_db = Chroma.from_documents(documents, embedding_function, persist_directory=PRESIST_DIRECTORY)"
   ]
  },
  {
   "cell_type": "markdown",
   "metadata": {},
   "source": [
    "### nomic-embed-text"
   ]
  },
  {
   "cell_type": "code",
   "execution_count": null,
   "metadata": {},
   "outputs": [],
   "source": [
    "PRESIST_DIRECTORY = os.path.join(os.getcwd(), \"Dataset/chroma_db_10_000_nomic-embed-text\")\n",
    "\n",
    "embedding_function = OllamaEmbeddings(model=\"nomic-embed-text\")\n",
    "\n",
    "vector_db = Chroma.from_documents(documents, embedding_function, persist_directory=PRESIST_DIRECTORY)"
   ]
  }
 ],
 "metadata": {
  "kernelspec": {
   "display_name": "env",
   "language": "python",
   "name": "python3"
  },
  "language_info": {
   "codemirror_mode": {
    "name": "ipython",
    "version": 3
   },
   "file_extension": ".py",
   "mimetype": "text/x-python",
   "name": "python",
   "nbconvert_exporter": "python",
   "pygments_lexer": "ipython3",
   "version": "3.11.7"
  }
 },
 "nbformat": 4,
 "nbformat_minor": 2
}
