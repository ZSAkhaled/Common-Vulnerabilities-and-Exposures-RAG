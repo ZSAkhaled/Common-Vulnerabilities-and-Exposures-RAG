{
 "cells": [
  {
   "cell_type": "markdown",
   "metadata": {},
   "source": [
    "## Import libraries"
   ]
  },
  {
   "cell_type": "code",
   "execution_count": 1,
   "metadata": {},
   "outputs": [],
   "source": [
    "import json\n",
    "import os"
   ]
  },
  {
   "cell_type": "markdown",
   "metadata": {},
   "source": [
    "## Read data"
   ]
  },
  {
   "cell_type": "code",
   "execution_count": 2,
   "metadata": {},
   "outputs": [],
   "source": [
    "data = json.load(open('Dataset/CVE_data/nvdcve-1.1-2024.json', encoding='utf-8'))\n",
    "modified_data = []"
   ]
  },
  {
   "cell_type": "code",
   "execution_count": 3,
   "metadata": {},
   "outputs": [],
   "source": [
    "for item in data['CVE_Items']:\n",
    "    id = item['cve']['CVE_data_meta']['ID']\n",
    "    assigner = item['cve']['CVE_data_meta']['ASSIGNER']\n",
    "    lang = item['cve']['description']['description_data'][0]['lang']\n",
    "    value = item['cve']['description']['description_data'][0]['value']\n",
    "    publish_date = item['publishedDate'].split('T')[0]\n",
    "    cve = {\n",
    "        'id': id,\n",
    "        'assigner': assigner,\n",
    "        'lang': lang,\n",
    "        'value': value,\n",
    "        'publish_date': publish_date\n",
    "    }\n",
    "    modified_data.append(cve)\n"
   ]
  },
  {
   "cell_type": "markdown",
   "metadata": {},
   "source": [
    "### Store modified data"
   ]
  },
  {
   "cell_type": "code",
   "execution_count": 4,
   "metadata": {},
   "outputs": [],
   "source": [
    "with open('Dataset/CVE_data/modified_nvdcve.json', 'w') as file:\n",
    "    json.dump(modified_data, file, indent=4)"
   ]
  },
  {
   "cell_type": "markdown",
   "metadata": {},
   "source": [
    "## Create MD files"
   ]
  },
  {
   "cell_type": "code",
   "execution_count": 5,
   "metadata": {},
   "outputs": [],
   "source": [
    "os.makedirs('Dataset/markdown_files/10_000', exist_ok=True)\n",
    "\n",
    "for i in range(0, 10_000):\n",
    "    cve = modified_data[i]\n",
    "    \n",
    "    id = cve['id']\n",
    "    assigner = cve['assigner']\n",
    "    description = cve['value']\n",
    "    publish_date = cve['publish_date']\n",
    "\n",
    "    # Create Markdown content\n",
    "    markdown_content = f\"# {id} - {assigner}\\n\\n\"\n",
    "    markdown_content += f\"{description}\\n\\n\"\n",
    "    markdown_content += f\"**Publish date:** {publish_date}\\n\"\n",
    "\n",
    "    # Save the Markdown file\n",
    "    with open(f'Dataset/markdown_files/10_000/{id}.md', 'w', encoding='utf-8') as file:\n",
    "        file.write(markdown_content)"
   ]
  },
  {
   "cell_type": "markdown",
   "metadata": {},
   "source": [
    "### (Not needed) to save PDF files"
   ]
  },
  {
   "cell_type": "code",
   "execution_count": null,
   "metadata": {},
   "outputs": [],
   "source": [
    "from fpdf import FPDF\n",
    "os.makedirs('pdf_files', exist_ok=True)\n",
    "\n",
    "for i in range(0, 10_000):\n",
    "    cve = modified_data[i]\n",
    "\n",
    "    # Assign the values to the variables\n",
    "    id = cve['id']\n",
    "    assigner = cve['assigner']\n",
    "    description = cve['value']\n",
    "    publish_date = cve['publish_date']\n",
    "\n",
    "    # Create the PDF\n",
    "    pdf = FPDF('P', 'mm', 'A4')\n",
    "    pdf.add_page()\n",
    "    pdf.set_margins(0, 0, 0)\n",
    "\n",
    "    # Page title\n",
    "    pdf.set_font('Arial', 'B', 14)\n",
    "    pdf.cell(0, 10, f'{id} - {assigner}', 0, 1, 'L')\n",
    "    pdf.ln(2)\n",
    "\n",
    "    # Page body\n",
    "    pdf.set_font('Arial', '', 12)\n",
    "    description = description.encode('latin-1', 'replace').decode('latin-1')\n",
    "    pdf.multi_cell(0, 10, description)\n",
    "    pdf.ln(2)\n",
    "    pdf.set_font('Arial', 'B', 12)\n",
    "    pdf.multi_cell(0, 10, 'Publish date: ' + publish_date)\n",
    "    pdf.ln()\n",
    "\n",
    "    # Save the PDF\n",
    "    pdf.output(f'pdf_files/{id}.pdf', 'F')"
   ]
  }
 ],
 "metadata": {
  "kernelspec": {
   "display_name": "env",
   "language": "python",
   "name": "python3"
  },
  "language_info": {
   "codemirror_mode": {
    "name": "ipython",
    "version": 3
   },
   "file_extension": ".py",
   "mimetype": "text/x-python",
   "name": "python",
   "nbconvert_exporter": "python",
   "pygments_lexer": "ipython3",
   "version": "3.11.9"
  }
 },
 "nbformat": 4,
 "nbformat_minor": 2
}
